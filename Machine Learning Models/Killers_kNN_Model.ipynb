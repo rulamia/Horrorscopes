{
  "nbformat": 4,
  "nbformat_minor": 0,
  "metadata": {
    "colab": {
      "name": "Killers kNN Model",
      "provenance": []
    },
    "kernelspec": {
      "name": "python3",
      "display_name": "Python 3"
    },
    "language_info": {
      "name": "python"
    }
  },
  "cells": [
    {
      "cell_type": "markdown",
      "source": [
        "# **KNN Model to group killers based on birthdays and numbers of victims**"
      ],
      "metadata": {
        "id": "c3X6LapRqNR2"
      }
    },
    {
      "cell_type": "code",
      "execution_count": null,
      "metadata": {
        "id": "EB4oeCshlLhc"
      },
      "outputs": [],
      "source": [
        "# Initial imports\n",
        "import pandas as pd\n",
        "import matplotlib.pyplot as plt\n",
        "import numpy as np\n",
        "import scipy.stats\n",
        "import seaborn as sns\n",
        "\n",
        "from sklearn.model_selection import train_test_split\n",
        "from sklearn.neighbors import KNeighborsRegressor\n",
        "from sklearn.metrics import mean_squared_error\n",
        "from math import sqrt\n",
        "from sklearn.model_selection import GridSearchCV\n",
        "from sklearn.ensemble import BaggingRegressor\n",
        "\n",
        "# Import the serial killer data\n",
        "#file_path = Path()\n",
        "#killers = pd.read_csv(file_path, header=None)\n",
        "from google.colab import files\n",
        " \n",
        " \n",
        "uploaded = files.upload()"
      ]
    },
    {
      "cell_type": "code",
      "source": [
        "# Confirm data has been imported correctly\n",
        "killers.head()"
      ],
      "metadata": {
        "id": "pOB1LBPQn5nu"
      },
      "execution_count": null,
      "outputs": []
    },
    {
      "cell_type": "code",
      "source": [
        "# Add the column names \n",
        "killers.columns = []"
      ],
      "metadata": {
        "id": "5FsNxGAGoIKB"
      },
      "execution_count": null,
      "outputs": []
    },
    {
      "cell_type": "code",
      "source": [
        "# Remove unnecessary columns\n",
        "killers = killers.drop()"
      ],
      "metadata": {
        "id": "VhveuGRdobs_"
      },
      "execution_count": null,
      "outputs": []
    },
    {
      "cell_type": "code",
      "source": [
        "# Generate a histogram to review the data\n",
        "# killers[\"Target Variable\"].hist(bins=12)"
      ],
      "metadata": {
        "id": "vHUjbI8aom2l"
      },
      "execution_count": null,
      "outputs": []
    },
    {
      "cell_type": "code",
      "source": [
        "# Find strong correlations\n",
        "correlation_matrix = killers.corr()\n",
        "#correlation_matrix[\"Target Variable\"]"
      ],
      "metadata": {
        "id": "Xy9EaZs7qczR"
      },
      "execution_count": null,
      "outputs": []
    },
    {
      "cell_type": "code",
      "source": [
        "# Define \"Nearest\" and define data points as vectors\n",
        "a = np.array([2, 2])\n",
        "b = np.array([4, 4])\n",
        "np.linalg.norm(a - b)"
      ],
      "metadata": {
        "id": "XvLvCcvcq1W9"
      },
      "execution_count": null,
      "outputs": []
    },
    {
      "cell_type": "code",
      "source": [
        "# Find the k Nearest Neighbors\n",
        "X = killers.drop(\"Target Variable\", axis=1)\n",
        "X = X.values\n",
        "y = killers[\"Target Variable\"]\n",
        "y = y.values\n",
        "\n",
        "# Create a NumPy array for the data\n",
        "new_data_poiont = np.array([])\n",
        "\n",
        "# Compute the distances between the new data point and each of the data points in the dataset\n",
        "distances = np.linalg.norm(X - new_data_point, axis=1)\n",
        "\n",
        "# Sort the array from lowest to highest and take the first k elements to obtain the indices of the knn\n",
        "k = 3\n",
        "nearest_neighbor_ids = distances.argsort()[:k]\n",
        "nearest_neighbor_ids"
      ],
      "metadata": {
        "id": "E0VuE1iRsVzu"
      },
      "execution_count": null,
      "outputs": []
    },
    {
      "cell_type": "code",
      "source": [
        "# Voting or Averaging of multiple neighbors\n",
        "# Find the ground truth for neighbors\n",
        "nearest_neighbor_kills = y[nearest_neighbor_ids]\n",
        "nearest_neighbor_kills "
      ],
      "metadata": {
        "id": "kVPtCIY0ufNK"
      },
      "execution_count": null,
      "outputs": []
    },
    {
      "cell_type": "code",
      "source": [
        "# Average for Regression\n",
        "prediction = nearest_neighbor_kills.mean()"
      ],
      "metadata": {
        "id": "Pwep13w3vHO2"
      },
      "execution_count": null,
      "outputs": []
    },
    {
      "cell_type": "code",
      "source": [
        "# Compute the mode\n",
        "class_neighbors = np.array([\"A\", \"B\", \"B\", \"C\"]) #change letters to signs\n",
        "scipy.stats.mode(class_neighbors)"
      ],
      "metadata": {
        "id": "CwM6B9_lt_eD"
      },
      "execution_count": null,
      "outputs": []
    },
    {
      "cell_type": "code",
      "source": [
        "# Split the data into Training and Testing sets for Model Evaluation\n",
        "X_train, X_test, y_train, y_test = train_test_split(\n",
        "...     X, y, test_size=0.2, random_state=12345\n",
        "... )"
      ],
      "metadata": {
        "id": "KB7SBUHzwSF7"
      },
      "execution_count": null,
      "outputs": []
    },
    {
      "cell_type": "code",
      "source": [
        "# Fitting a kNN Regressionin scikit-learn to the dataset\n",
        "knn_model = KNeighborsRegressor(n_neighbors=3)\n",
        "\n",
        "# Fit the model on the training dataset\n",
        "knn_model.fit(X_train, y_train)"
      ],
      "metadata": {
        "id": "zqFq8BXUzNaf"
      },
      "execution_count": null,
      "outputs": []
    },
    {
      "cell_type": "code",
      "source": [
        "# Inspect Model Fit\n",
        "\n",
        "# Obtain the RMSE\n",
        "train_preds = knn_model.predict(X_train)\n",
        "mse = mean_squared_error(y_train, train_preds)\n",
        "rmse = sqrt(mse)\n",
        "rmse\n",
        "\n",
        "# Compute the RMSE on the training data\n",
        "test_preds = knn_model.predict(X_test)\n",
        "mse = mean_squared_error(y_test, test_preds)\n",
        "rmse = sqrt(mse)\n",
        "rmse"
      ],
      "metadata": {
        "id": "izBcIWRszNbp"
      },
      "execution_count": null,
      "outputs": []
    },
    {
      "cell_type": "code",
      "source": [
        "# Plot the fit of the model\n",
        "cmap = sns.cubehelix_palette(as_cmap=True)\n",
        "f, ax = plt.subplots()\n",
        " points = ax.scatter(\n",
        "...     X_test[:, 0], X_test[:, 1], c=test_preds, s=50, cmap=cmap\n",
        "... )\n",
        "f.colorbar(points)\n",
        "plt.show"
      ],
      "metadata": {
        "id": "1u6qkq-r16Vv"
      },
      "execution_count": null,
      "outputs": []
    },
    {
      "cell_type": "code",
      "source": [
        "# Confirm wether trend exists on actual data\n",
        "cmap = sns.cubehelix_palette(as_cmap=True)\n",
        "f, ax = plt.subplots()\n",
        "points = ax.scatter(X_test[:, 0], X_test[:, 1], c=y_test, s=50, cmap=cmap)\n",
        "f.colorbar(points)\n",
        "plt.show()"
      ],
      "metadata": {
        "id": "hfXs968d2sjC"
      },
      "execution_count": null,
      "outputs": []
    },
    {
      "cell_type": "code",
      "source": [
        "# Find the best value for k using GridSearchCV\n",
        "parameters = {\"n_neighbors\": range(1, 50)}\n",
        "gridsearch = GridSearchCV(KNeighborsRegressor(), parameters)\n",
        "gridsearch.fit(X_train, y_train)"
      ],
      "metadata": {
        "id": "BVKFHxSN3TIU"
      },
      "execution_count": null,
      "outputs": []
    },
    {
      "cell_type": "code",
      "source": [
        "# Retain the best performing value of k \n",
        "# Print the parameters that have the lowest score\n",
        "gridsearch.best_params_"
      ],
      "metadata": {
        "id": "7Sz_Pzyy4xs2"
      },
      "execution_count": null,
      "outputs": []
    },
    {
      "cell_type": "code",
      "source": [
        "# See how k value affects train and test performances\n",
        "train_preds_grid = gridsearch.predict(X_train)\n",
        "train_mse = mean_squared_error(y_train, train_preds_grid)\n",
        "train_rmse = sqrt(train_mse)\n",
        "test_preds_grid = gridsearch.predict(X_test)\n",
        "test_mse = mean_squared_error(y_test, test_preds_grid)\n",
        "test_rmse = sqrt(test_mse)\n",
        "train_rmse\n",
        "test_rmse\n"
      ],
      "metadata": {
        "id": "oPR6VCXX480N"
      },
      "execution_count": null,
      "outputs": []
    },
    {
      "cell_type": "code",
      "source": [
        "# Test whether the performance of the model will be any better using Weighted Average of neighbors based on distance\n",
        "parameters = {\"n_neighbors\": range(1, 50),\"weights\": [\"uniform\", \"distance\"],}\n",
        "gridsearch = GridSearchCV(KNeighborsRegressor(), parameters)\n",
        "gridsearch.fit(X_train, y_train)\n",
        "gridsearch.best_params_\n",
        "test_preds_grid = gridsearch.predict(X_test)\n",
        "test_mse = mean_squared_error(y_test, test_preds_grid)\n",
        "test_rmse = sqrt(test_mse)\n",
        "test_rmse"
      ],
      "metadata": {
        "id": "hWxYco-_52be"
      },
      "execution_count": null,
      "outputs": []
    },
    {
      "cell_type": "code",
      "source": [
        "# Use bagging to improve kNN\n",
        "\n",
        "# Create the KNeighborsRegressor\n",
        "best_k = gridsearch.best_params_[\"n_neighbors\"]\n",
        "best_weights = gridsearch.best_params_[\"weights\"]\n",
        "bagged_knn = KNeighborsRegressor(n_neighbors=best_k, weights=best_weights)\n",
        "\n",
        "# Import the BaggingRegressor class\n",
        "bagging_model = BaggingRegressor(bagged_knn, n_estimators=100)\n",
        "\n",
        "# Make a prediction and calculate the RMSE to see if improved\n",
        "test_preds_grid = bagging_model.predict(X_test)\n",
        "test_mse = mean_squared_error(y_test, test_preds_grid)\n",
        "test_rmse = sqrt(test_mse)\n",
        "test_rmse "
      ],
      "metadata": {
        "id": "rhP8aWIk6Wu7"
      },
      "execution_count": null,
      "outputs": []
    }
  ]
}