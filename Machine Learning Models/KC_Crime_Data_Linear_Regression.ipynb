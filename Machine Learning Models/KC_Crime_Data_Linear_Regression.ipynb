{
  "nbformat": 4,
  "nbformat_minor": 0,
  "metadata": {
    "colab": {
      "name": "KC Crime Data Linear Regression",
      "provenance": []
    },
    "kernelspec": {
      "name": "python3",
      "display_name": "Python 3"
    },
    "language_info": {
      "name": "python"
    }
  },
  "cells": [
    {
      "cell_type": "code",
      "execution_count": null,
      "metadata": {
        "id": "O7QnDp1D_7KR"
      },
      "outputs": [],
      "source": [
        "# Import dependencies \n",
        "import pandas as pd\n",
        "from pathlib import Path\n",
        "import matplotlib.pyplot as plt\n",
        "from sklearn.linear_model import LinearRegression"
      ]
    },
    {
      "cell_type": "code",
      "source": [
        "# Load the data\n",
        "from google.colab import files\n",
        " \n",
        "uploaded = files.upload()"
      ],
      "metadata": {
        "id": "ygl4h5aGBdkU"
      },
      "execution_count": null,
      "outputs": []
    },
    {
      "cell_type": "code",
      "source": [
        "# Visually inspect the relationship between \"Description\" and \"From Date\" columns\n",
        "# Target = Description\n",
        "plt.scatter(df.FromDate, df.Description)\n",
        "plt.xlabel('From Date')\n",
        "plt.ylabel('Description')\n",
        "plt.show()"
      ],
      "metadata": {
        "id": "czuVLdXcBkmo"
      },
      "execution_count": null,
      "outputs": []
    },
    {
      "cell_type": "code",
      "source": [
        "# Format the data to meet the requirements of the Scikit-learn library\n",
        "X = df.FromDate.values.reshape(-1,1)\n",
        "X[:5]"
      ],
      "metadata": {
        "id": "QkJeWACkCbBq"
      },
      "execution_count": null,
      "outputs": []
    },
    {
      "cell_type": "code",
      "source": [
        "# Examine the shape of X\n",
        "X.shape"
      ],
      "metadata": {
        "id": "CUZfmz42CsvX"
      },
      "execution_count": null,
      "outputs": []
    },
    {
      "cell_type": "code",
      "source": [
        "# Assign the target variable\n",
        "y = df.Description"
      ],
      "metadata": {
        "id": "yujdT5r5Cx6x"
      },
      "execution_count": null,
      "outputs": []
    },
    {
      "cell_type": "code",
      "source": [
        "# Create a model that will analyze the data \n",
        "model = LinearRegression()\n",
        "model.fit(X,y)"
      ],
      "metadata": {
        "id": "pGcM5LNtC_Nk"
      },
      "execution_count": null,
      "outputs": []
    },
    {
      "cell_type": "code",
      "source": [
        "# Generate predictions\n",
        "y_pred = model.predict(X)\n",
        "print(y_pred.shape)"
      ],
      "metadata": {
        "id": "UUOHS1exDHMk"
      },
      "execution_count": null,
      "outputs": []
    },
    {
      "cell_type": "code",
      "source": [
        "# Plot the predictions\n",
        "plt.scatter(X, y)\n",
        "plt.plot(X, y_pred, color='red')\n",
        "plt.show()"
      ],
      "metadata": {
        "id": "AYUXMxS7Daae"
      },
      "execution_count": null,
      "outputs": []
    },
    {
      "cell_type": "code",
      "source": [
        "# Examine the specific parameters \n",
        "print(model.coef_)\n",
        "print(model.intercept_)"
      ],
      "metadata": {
        "id": "CrwNmVgODdvS"
      },
      "execution_count": null,
      "outputs": []
    }
  ]
}