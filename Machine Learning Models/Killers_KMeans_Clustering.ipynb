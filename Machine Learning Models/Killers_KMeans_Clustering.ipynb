{
  "nbformat": 4,
  "nbformat_minor": 0,
  "metadata": {
    "colab": {
      "name": "Killers KMeans Clustering",
      "provenance": [],
      "collapsed_sections": []
    },
    "kernelspec": {
      "name": "python3",
      "display_name": "Python 3"
    },
    "language_info": {
      "name": "python"
    }
  },
  "cells": [
    {
      "cell_type": "markdown",
      "source": [
        "# **KNN Model to group killers based on birthdays and numbers of victims**"
      ],
      "metadata": {
        "id": "dSbiX1DtghqW"
      }
    },
    {
      "cell_type": "code",
      "execution_count": null,
      "metadata": {
        "id": "wwZ8a5ONPf7J"
      },
      "outputs": [],
      "source": [
        "# Import dependencies\n",
        "import pandas as pd\n",
        "import plotly.express as px\n",
        "import hvplot.pandas\n",
        "from sklearn.cluster import KMeans"
      ]
    },
    {
      "cell_type": "code",
      "source": [
        "# Loading data\n",
        "from google.colab import files\n",
        " \n",
        " \n",
        "uploaded = files.upload()"
      ],
      "metadata": {
        "id": "5886yUuQg4lx"
      },
      "execution_count": null,
      "outputs": []
    },
    {
      "cell_type": "code",
      "source": [
        "# Initialize te K Starting Centroids\n",
        "model = KMeans(n_clusters=12, random_state=5)\n",
        "model"
      ],
      "metadata": {
        "id": "LiW_y-4AhBem"
      },
      "execution_count": null,
      "outputs": []
    },
    {
      "cell_type": "code",
      "source": [
        "# Fitting model\n",
        "model.fit(df_killers)"
      ],
      "metadata": {
        "id": "T3_JtXZyhQ82"
      },
      "execution_count": null,
      "outputs": []
    },
    {
      "cell_type": "code",
      "source": [
        "# Get the predictions\n",
        "predictions = model.predict(df_killers)\n",
        "print(predictions)"
      ],
      "metadata": {
        "id": "VLDoLA3shdVg"
      },
      "execution_count": null,
      "outputs": []
    },
    {
      "cell_type": "code",
      "source": [
        "# Add a new predicted class column \n",
        "df_killers[\"class\"] = model.labels_\n",
        "df_killers.head()"
      ],
      "metadata": {
        "id": "g-NeMBCWhlKj"
      },
      "execution_count": null,
      "outputs": []
    },
    {
      "cell_type": "markdown",
      "source": [
        "## **Visualize the Data**"
      ],
      "metadata": {
        "id": "g2M24wUdiVQ2"
      }
    },
    {
      "cell_type": "code",
      "source": [
        "# Plotting the clusters with features\n",
        "df_killers.hvplot.scatter(x=\"\", y=\"\", by=\"class\")\n",
        "\n",
        "# Create a scatterplot of df_killers\n",
        "df_killers.hvplot.scatter(x=\"\", y=\"\", by=\"class\")"
      ],
      "metadata": {
        "id": "eZsrMIq1iBdT"
      },
      "execution_count": null,
      "outputs": []
    },
    {
      "cell_type": "code",
      "source": [
        "# Plot in 3d if needed\n",
        "fig = px.scatter_3d(df_killers, x=\"\", y=\"\", z=\"\", color=\"\", symbol=\"class\", size=\"\",width=800)\n",
        "fig.update_layout(legend=dict(x=0,y=1))\n",
        "fig.show()"
      ],
      "metadata": {
        "id": "P-fGSqSjiqhG"
      },
      "execution_count": null,
      "outputs": []
    },
    {
      "cell_type": "markdown",
      "source": [
        "## **Finding Centroids**"
      ],
      "metadata": {
        "id": "LW2XDEUGjTFe"
      }
    },
    {
      "cell_type": "code",
      "source": [
        "# Function to cluster and plot dataset\n",
        "def test_cluster_amount(df, clusters):\n",
        "    model = KMeans(n_clusters=clusters, random_state=5)\n",
        "    model\n",
        "\n",
        "    # Fitting model\n",
        "    model.fit(df)\n",
        "\n",
        "    # Add a new class column to df_killers\n",
        "    df[\"class\"] = model.labels_"
      ],
      "metadata": {
        "id": "V5YVGfm2jEFu"
      },
      "execution_count": null,
      "outputs": []
    },
    {
      "cell_type": "code",
      "source": [
        "# Create a 3D plot\n",
        "fig = px.scatter_3d(\n",
        "    df_shopping,\n",
        "    x=\"\",\n",
        "    y=\"\",\n",
        "    z=\"\",\n",
        "    color=\"class\",\n",
        "    symbol=\"class\",\n",
        "    width=800,\n",
        ")\n",
        "fig.update_layout(legend=dict(x=0, y=1))\n",
        "fig.show()"
      ],
      "metadata": {
        "id": "Q2L_O90rjnba"
      },
      "execution_count": null,
      "outputs": []
    }
  ]
}