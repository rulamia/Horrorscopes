{
 "cells": [
  {
   "cell_type": "markdown",
   "id": "3e53dda8",
   "metadata": {},
   "source": [
    "# Does crime happen more during certain astrological seasons?"
   ]
  },
  {
   "cell_type": "code",
   "execution_count": 2,
   "id": "61aa1167",
   "metadata": {
    "scrolled": true
   },
   "outputs": [],
   "source": [
    "# Import Dependencies\n",
    "import pandas as pd\n",
    "from pathlib import Path\n",
    "import matplotlib.pyplot as plt\n",
    "from sklearn.linear_model import LinearRegression"
   ]
  },
  {
   "cell_type": "code",
   "execution_count": 4,
   "id": "d916c14c",
   "metadata": {
    "scrolled": true
   },
   "outputs": [
    {
     "data": {
      "text/html": [
       "<div>\n",
       "<style scoped>\n",
       "    .dataframe tbody tr th:only-of-type {\n",
       "        vertical-align: middle;\n",
       "    }\n",
       "\n",
       "    .dataframe tbody tr th {\n",
       "        vertical-align: top;\n",
       "    }\n",
       "\n",
       "    .dataframe thead th {\n",
       "        text-align: right;\n",
       "    }\n",
       "</style>\n",
       "<table border=\"1\" class=\"dataframe\">\n",
       "  <thead>\n",
       "    <tr style=\"text-align: right;\">\n",
       "      <th></th>\n",
       "      <th>Report_No</th>\n",
       "      <th>Reported_Date</th>\n",
       "      <th>Reported Time</th>\n",
       "      <th>From_Date</th>\n",
       "      <th>From Time</th>\n",
       "      <th>To_Date</th>\n",
       "      <th>To Time</th>\n",
       "      <th>Offense</th>\n",
       "      <th>IBRS</th>\n",
       "      <th>Description</th>\n",
       "      <th>...</th>\n",
       "      <th>Rep_Dist</th>\n",
       "      <th>Area</th>\n",
       "      <th>DVFlag</th>\n",
       "      <th>Invl_No</th>\n",
       "      <th>Involvement</th>\n",
       "      <th>Race</th>\n",
       "      <th>Sex</th>\n",
       "      <th>Age</th>\n",
       "      <th>Location 1</th>\n",
       "      <th>Firearm Used Flag</th>\n",
       "    </tr>\n",
       "  </thead>\n",
       "  <tbody>\n",
       "    <tr>\n",
       "      <th>0</th>\n",
       "      <td>70059279</td>\n",
       "      <td>10/06/2009 12:00:00 AM</td>\n",
       "      <td>3:24</td>\n",
       "      <td>10/05/2009 12:00:00 AM</td>\n",
       "      <td>22:56</td>\n",
       "      <td>10/05/2009 12:00:00 AM</td>\n",
       "      <td>23:10</td>\n",
       "      <td>1850</td>\n",
       "      <td>35B</td>\n",
       "      <td>Possession of Drug E</td>\n",
       "      <td>...</td>\n",
       "      <td>PJ2327</td>\n",
       "      <td>EPD</td>\n",
       "      <td>U</td>\n",
       "      <td>1</td>\n",
       "      <td>ARR</td>\n",
       "      <td>B</td>\n",
       "      <td>F</td>\n",
       "      <td>28.0</td>\n",
       "      <td>PROSPECT AV VICTOR ST KANSAS CITY, MO 64128\\n(...</td>\n",
       "      <td>N</td>\n",
       "    </tr>\n",
       "    <tr>\n",
       "      <th>1</th>\n",
       "      <td>80005443</td>\n",
       "      <td>02/05/2009 12:00:00 AM</td>\n",
       "      <td>11:45</td>\n",
       "      <td>01/22/2008 12:00:00 AM</td>\n",
       "      <td>12:00</td>\n",
       "      <td>NaN</td>\n",
       "      <td>NaN</td>\n",
       "      <td>121</td>\n",
       "      <td>09C</td>\n",
       "      <td>Justifiable Homicide</td>\n",
       "      <td>...</td>\n",
       "      <td>PJ1029</td>\n",
       "      <td>CPD</td>\n",
       "      <td>U</td>\n",
       "      <td>1</td>\n",
       "      <td>SUS</td>\n",
       "      <td>W</td>\n",
       "      <td>M</td>\n",
       "      <td>27.0</td>\n",
       "      <td>1100 LOCUST ST\\nKANSAS CITY, MO 64106\\n(39.100...</td>\n",
       "      <td>Y</td>\n",
       "    </tr>\n",
       "    <tr>\n",
       "      <th>2</th>\n",
       "      <td>80019629</td>\n",
       "      <td>06/18/2009 12:00:00 AM</td>\n",
       "      <td>22:50</td>\n",
       "      <td>06/18/2009 12:00:00 AM</td>\n",
       "      <td>21:15</td>\n",
       "      <td>NaN</td>\n",
       "      <td>NaN</td>\n",
       "      <td>1849</td>\n",
       "      <td>35A</td>\n",
       "      <td>Possession/Sale/Dist</td>\n",
       "      <td>...</td>\n",
       "      <td>PJ0371</td>\n",
       "      <td>EPD</td>\n",
       "      <td>U</td>\n",
       "      <td>1</td>\n",
       "      <td>ARR</td>\n",
       "      <td>W</td>\n",
       "      <td>M</td>\n",
       "      <td>22.0</td>\n",
       "      <td>100 WHEELING AV\\nKANSAS CITY, MO 64129\\n(39.11...</td>\n",
       "      <td>N</td>\n",
       "    </tr>\n",
       "    <tr>\n",
       "      <th>3</th>\n",
       "      <td>70060962</td>\n",
       "      <td>01/28/2009 12:00:00 AM</td>\n",
       "      <td>18:44</td>\n",
       "      <td>01/28/2009 12:00:00 AM</td>\n",
       "      <td>18:44</td>\n",
       "      <td>NaN</td>\n",
       "      <td>NaN</td>\n",
       "      <td>1352</td>\n",
       "      <td>280</td>\n",
       "      <td>Stolen Property OFFE</td>\n",
       "      <td>...</td>\n",
       "      <td>PJ3525</td>\n",
       "      <td>EPD</td>\n",
       "      <td>U</td>\n",
       "      <td>1</td>\n",
       "      <td>VIC</td>\n",
       "      <td>U</td>\n",
       "      <td>U</td>\n",
       "      <td>NaN</td>\n",
       "      <td>44 ST INDIANA AV\\nKANSAS CITY, MO 64130\\n(39.0...</td>\n",
       "      <td>N</td>\n",
       "    </tr>\n",
       "    <tr>\n",
       "      <th>4</th>\n",
       "      <td>80005443</td>\n",
       "      <td>02/05/2009 12:00:00 AM</td>\n",
       "      <td>11:45</td>\n",
       "      <td>01/22/2008 12:00:00 AM</td>\n",
       "      <td>12:00</td>\n",
       "      <td>NaN</td>\n",
       "      <td>NaN</td>\n",
       "      <td>121</td>\n",
       "      <td>09C</td>\n",
       "      <td>Justifiable Homicide</td>\n",
       "      <td>...</td>\n",
       "      <td>PJ1029</td>\n",
       "      <td>CPD</td>\n",
       "      <td>U</td>\n",
       "      <td>2</td>\n",
       "      <td>SUS</td>\n",
       "      <td>W</td>\n",
       "      <td>M</td>\n",
       "      <td>28.0</td>\n",
       "      <td>1100 LOCUST ST\\nKANSAS CITY, MO 64106\\n(39.100...</td>\n",
       "      <td>Y</td>\n",
       "    </tr>\n",
       "  </tbody>\n",
       "</table>\n",
       "<p>5 rows × 24 columns</p>\n",
       "</div>"
      ],
      "text/plain": [
       "   Report_No           Reported_Date Reported Time               From_Date  \\\n",
       "0   70059279  10/06/2009 12:00:00 AM          3:24  10/05/2009 12:00:00 AM   \n",
       "1   80005443  02/05/2009 12:00:00 AM         11:45  01/22/2008 12:00:00 AM   \n",
       "2   80019629  06/18/2009 12:00:00 AM         22:50  06/18/2009 12:00:00 AM   \n",
       "3   70060962  01/28/2009 12:00:00 AM         18:44  01/28/2009 12:00:00 AM   \n",
       "4   80005443  02/05/2009 12:00:00 AM         11:45  01/22/2008 12:00:00 AM   \n",
       "\n",
       "  From Time                 To_Date To Time  Offense IBRS  \\\n",
       "0     22:56  10/05/2009 12:00:00 AM   23:10     1850  35B   \n",
       "1     12:00                     NaN     NaN      121  09C   \n",
       "2     21:15                     NaN     NaN     1849  35A   \n",
       "3     18:44                     NaN     NaN     1352  280   \n",
       "4     12:00                     NaN     NaN      121  09C   \n",
       "\n",
       "            Description  ... Rep_Dist Area DVFlag  Invl_No Involvement Race  \\\n",
       "0  Possession of Drug E  ...   PJ2327  EPD      U        1         ARR    B   \n",
       "1  Justifiable Homicide  ...   PJ1029  CPD      U        1         SUS    W   \n",
       "2  Possession/Sale/Dist  ...   PJ0371  EPD      U        1         ARR    W   \n",
       "3  Stolen Property OFFE  ...   PJ3525  EPD      U        1         VIC    U   \n",
       "4  Justifiable Homicide  ...   PJ1029  CPD      U        2         SUS    W   \n",
       "\n",
       "  Sex   Age                                         Location 1  \\\n",
       "0   F  28.0  PROSPECT AV VICTOR ST KANSAS CITY, MO 64128\\n(...   \n",
       "1   M  27.0  1100 LOCUST ST\\nKANSAS CITY, MO 64106\\n(39.100...   \n",
       "2   M  22.0  100 WHEELING AV\\nKANSAS CITY, MO 64129\\n(39.11...   \n",
       "3   U   NaN  44 ST INDIANA AV\\nKANSAS CITY, MO 64130\\n(39.0...   \n",
       "4   M  28.0  1100 LOCUST ST\\nKANSAS CITY, MO 64106\\n(39.100...   \n",
       "\n",
       "  Firearm Used Flag    \n",
       "0                   N  \n",
       "1                   Y  \n",
       "2                   N  \n",
       "3                   N  \n",
       "4                   Y  \n",
       "\n",
       "[5 rows x 24 columns]"
      ]
     },
     "execution_count": 4,
     "metadata": {},
     "output_type": "execute_result"
    }
   ],
   "source": [
    "# Import KCPD_Crime_Data_2009_Final.csv\n",
    "df = pd.read_csv(Path('KCPD_Crime_Data_2009_Final.csv'))\n",
    "df.head()"
   ]
  },
  {
   "cell_type": "code",
   "execution_count": 5,
   "id": "6d708f90",
   "metadata": {
    "scrolled": true
   },
   "outputs": [
    {
     "data": {
      "text/plain": [
       "132977"
      ]
     },
     "execution_count": 5,
     "metadata": {},
     "output_type": "execute_result"
    }
   ],
   "source": [
    "# Count the rows in the dataset\n",
    "len(df.index)"
   ]
  },
  {
   "cell_type": "code",
   "execution_count": 6,
   "id": "eee601dc",
   "metadata": {
    "scrolled": true
   },
   "outputs": [
    {
     "data": {
      "text/plain": [
       "Index(['Report_No', 'Reported_Date', 'Reported Time', 'From_Date', 'From Time',\n",
       "       'To_Date', 'To Time', 'Offense', 'IBRS', 'Description', 'Beat',\n",
       "       'Address', 'City', 'Zip Code', 'Rep_Dist', 'Area', 'DVFlag', 'Invl_No',\n",
       "       'Involvement', 'Race', 'Sex', 'Age', 'Location 1',\n",
       "       'Firearm Used Flag  '],\n",
       "      dtype='object')"
      ]
     },
     "execution_count": 6,
     "metadata": {},
     "output_type": "execute_result"
    }
   ],
   "source": [
    "# Show Column Names\n",
    "df.columns"
   ]
  },
  {
   "cell_type": "code",
   "execution_count": 7,
   "id": "acfa4244",
   "metadata": {
    "scrolled": true
   },
   "outputs": [
    {
     "data": {
      "text/plain": [
       "Report_No                int64\n",
       "Reported_Date           object\n",
       "Reported Time           object\n",
       "From_Date               object\n",
       "From Time               object\n",
       "To_Date                 object\n",
       "To Time                 object\n",
       "Offense                  int64\n",
       "IBRS                    object\n",
       "Description             object\n",
       "Beat                    object\n",
       "Address                 object\n",
       "City                    object\n",
       "Zip Code               float64\n",
       "Rep_Dist                object\n",
       "Area                    object\n",
       "DVFlag                  object\n",
       "Invl_No                  int64\n",
       "Involvement             object\n",
       "Race                    object\n",
       "Sex                     object\n",
       "Age                    float64\n",
       "Location 1              object\n",
       "Firearm Used Flag       object\n",
       "dtype: object"
      ]
     },
     "execution_count": 7,
     "metadata": {},
     "output_type": "execute_result"
    }
   ],
   "source": [
    "# Show Data Type for each column\n",
    "df.dtypes"
   ]
  },
  {
   "cell_type": "code",
   "execution_count": 8,
   "id": "77c6125e",
   "metadata": {
    "scrolled": true
   },
   "outputs": [
    {
     "name": "stdout",
     "output_type": "stream",
     "text": [
      "['Possession of Drug E' 'Justifiable Homicide' 'Possession/Sale/Dist'\n",
      " 'Stolen Property OFFE' 'Rape' 'Misc Violation' 'Forgery'\n",
      " 'Property Damage' 'Suicide by Other Mea' 'Aggravated Assault ('\n",
      " 'Auto Theft Outside S' 'Stealing All Other' 'Burglary - Residence'\n",
      " 'Intimidation' 'Stealing From Auto' 'HOMICIDE' 'Auto Theft'\n",
      " 'Family Offense' 'Non Agg Assault Dome' 'Sex Off Fondle - mol'\n",
      " 'Stealing Auto Parts/' 'Dangerous and Concea' 'Violation Full Order'\n",
      " 'Non Aggravated Assau' 'Forcible Sodomy' 'Agg Assault - Domest'\n",
      " 'Stealing Pickpocket' 'Casualty (includes a' 'Resisting an Officer'\n",
      " 'Stealing Shoplifting' 'Armed Robbery' 'Drunkenness'\n",
      " 'Burglary - Non Resid' 'Strong Arm Robbery' 'Arson'\n",
      " 'Stealing from Buildi' 'Forged Checks' 'Stealing Purse Snatc'\n",
      " 'Passing Bad Checks' 'False Information to' 'Kidnapping/Abduction'\n",
      " 'HOMICIDE/Non Neglige' 'Credit/Debit/ATM Car' 'Embezzlement' 'Fraud'\n",
      " 'Impersonation - NOT' 'Sex Off Misconduct' 'Trespassing' 'Alien'\n",
      " 'Attempt Suicide by S' 'Agg Assault - Drive-' 'Family Disturbance'\n",
      " 'Statutory Rape' 'Weapons Law Violatio' 'stolen/recoverd auto' 'Stalking'\n",
      " 'Disorderly Conduct' 'Arson with Fire Bomb' 'Sex Off Indecent Exp'\n",
      " 'Violation Ex Parte O' 'Impersonation' 'Dead Body' 'False Bomb Report/Bo'\n",
      " 'Sexual Assault with' 'Attempt Suicide by C' 'Driving Under Influe'\n",
      " 'Interference with Cu' 'Animal Bite - Dog' 'Sex Offense -others' 'Curfew'\n",
      " 'Bomb Threat/Intimida' 'Failure to Return' 'Suicide By Sleeping'\n",
      " 'Counterfeiting' 'Attempt Suicide by O' 'Sex Off Indecent Con'\n",
      " 'Stealing Coin Operat' 'Liquor Law Violaton' 'Attempt Suicide by P'\n",
      " 'Extortion/Blackmail' 'Attempt Suicide by J' 'Suicide By Hanging'\n",
      " 'AGG ASSLT' 'Prostitution/Patroni' 'Stealing Bicycles' 'Wire Fraud'\n",
      " 'aggravated assault' 'Pornography' 'Manslaughter by Vehi'\n",
      " 'Forcible Fondling' 'dv agg assault' 'Missing/Runaway Juve' 'False ID'\n",
      " 'Attempt Suicide' 'Suicide By Shooting' 'stealing accessories'\n",
      " 'Stealing from buildi' 'Sports Tampering' 'Dangerous and Conce'\n",
      " 'Fraud Confidence Gam' 'res burglary' 'bus robbery'\n",
      " 'driving under the in' 'property damage' 'Attempt Suicide by H'\n",
      " 'Aggravated Assault' 'stealing acc' 'Loitering' 'ARSON' 'forgery' 'fraud'\n",
      " '5' 'Attempt Suicide by G' 'Littering' 'Suicide - Domestic V'\n",
      " 'Bombing (other than' 'Welfare Fraud' 'Peeping Tom' '2601'\n",
      " 'Agg Assault Dome' 'Promoting Prostituti' 'c' 'Agg Assault'\n",
      " 'Hit and Run of a Per' 'stealing' 'F' 'Vehicular Fatality -'\n",
      " 'Stealing Auto Parts' 'Sex Off Follow/Entic' 'stealing ACC'\n",
      " 'stealing shoplifting' 'counterfeit' 'Sex Off Incest' 'armed robbery'\n",
      " 'RESIST OFFICER' 'non agg assault/spit']\n"
     ]
    }
   ],
   "source": [
    "# Show all unique values in Description column\n",
    "print(df[\"Description\"].unique())"
   ]
  },
  {
   "cell_type": "code",
   "execution_count": 10,
   "id": "45c938ae",
   "metadata": {
    "scrolled": true
   },
   "outputs": [
    {
     "name": "stdout",
     "output_type": "stream",
     "text": [
      "136\n"
     ]
    }
   ],
   "source": [
    "# Count the unique values in the Description column\n",
    "print(df['Description'].nunique())"
   ]
  },
  {
   "cell_type": "code",
   "execution_count": 16,
   "id": "90bb2b5d",
   "metadata": {
    "scrolled": false
   },
   "outputs": [
    {
     "data": {
      "text/plain": [
       "Burglary - Residence    14014\n",
       "Property Damage         12826\n",
       "Stealing From Auto       9766\n",
       "Stealing Auto Parts/     9016\n",
       "Non Agg Assault Dome     7556\n",
       "                        ...  \n",
       "Sex Off Follow/Entic        1\n",
       "Dangerous and Conce         1\n",
       "Attempt Suicide by G        1\n",
       "Suicide by Other Mea        1\n",
       "Attempt Suicide             1\n",
       "Name: Description, Length: 136, dtype: int64"
      ]
     },
     "execution_count": 16,
     "metadata": {},
     "output_type": "execute_result"
    }
   ],
   "source": [
    "# Look at the Description type for binning\n",
    "description_count = df.Description.value_counts()\n",
    "description_count"
   ]
  },
  {
   "cell_type": "code",
   "execution_count": null,
   "id": "42970eb6",
   "metadata": {
    "scrolled": true
   },
   "outputs": [],
   "source": []
  }
 ],
 "metadata": {
  "kernelspec": {
   "display_name": "mlenv2",
   "language": "python",
   "name": "mlenv2"
  },
  "language_info": {
   "codemirror_mode": {
    "name": "ipython",
    "version": 3
   },
   "file_extension": ".py",
   "mimetype": "text/x-python",
   "name": "python",
   "nbconvert_exporter": "python",
   "pygments_lexer": "ipython3",
   "version": "3.7.13"
  }
 },
 "nbformat": 4,
 "nbformat_minor": 5
}
