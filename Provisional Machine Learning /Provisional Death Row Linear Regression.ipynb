{
 "cells": [
  {
   "cell_type": "markdown",
   "id": "d5a0c664",
   "metadata": {},
   "source": [
    "# Death Row Dataset"
   ]
  },
  {
   "cell_type": "markdown",
   "id": "c04fc335",
   "metadata": {},
   "source": [
    "## Linear Regression"
   ]
  },
  {
   "cell_type": "code",
   "execution_count": 1,
   "id": "a4e0cef3",
   "metadata": {},
   "outputs": [],
   "source": [
    "# Import Dependencies\n",
    "import pandas as pd\n",
    "from pathlib import Path\n",
    "import matplotlib.pyplot as plt\n",
    "from sklearn.linear_model import LinearRegression"
   ]
  },
  {
   "cell_type": "code",
   "execution_count": 2,
   "id": "218d40b0",
   "metadata": {},
   "outputs": [
    {
     "data": {
      "text/html": [
       "<div>\n",
       "<style scoped>\n",
       "    .dataframe tbody tr th:only-of-type {\n",
       "        vertical-align: middle;\n",
       "    }\n",
       "\n",
       "    .dataframe tbody tr th {\n",
       "        vertical-align: top;\n",
       "    }\n",
       "\n",
       "    .dataframe thead th {\n",
       "        text-align: right;\n",
       "    }\n",
       "</style>\n",
       "<table border=\"1\" class=\"dataframe\">\n",
       "  <thead>\n",
       "    <tr style=\"text-align: right;\">\n",
       "      <th></th>\n",
       "      <th>TDCJ Number</th>\n",
       "      <th>Link</th>\n",
       "      <th>Last Name</th>\n",
       "      <th>First Name</th>\n",
       "      <th>Date of Birth</th>\n",
       "      <th>Gender</th>\n",
       "      <th>Race</th>\n",
       "      <th>Date Received</th>\n",
       "      <th>County</th>\n",
       "      <th>Date of Offense</th>\n",
       "    </tr>\n",
       "  </thead>\n",
       "  <tbody>\n",
       "    <tr>\n",
       "      <th>0</th>\n",
       "      <td>999606</td>\n",
       "      <td>Offender Information</td>\n",
       "      <td>Colone</td>\n",
       "      <td>Joseph</td>\n",
       "      <td>08/13/1978</td>\n",
       "      <td>M</td>\n",
       "      <td>Black</td>\n",
       "      <td>05/09/2017</td>\n",
       "      <td>Jefferson</td>\n",
       "      <td>07/31/2010</td>\n",
       "    </tr>\n",
       "    <tr>\n",
       "      <th>1</th>\n",
       "      <td>999605</td>\n",
       "      <td>Offender Information</td>\n",
       "      <td>Falk</td>\n",
       "      <td>John</td>\n",
       "      <td>11/19/1966</td>\n",
       "      <td>M</td>\n",
       "      <td>White</td>\n",
       "      <td>03/01/2017</td>\n",
       "      <td>Walker</td>\n",
       "      <td>09/24/2007</td>\n",
       "    </tr>\n",
       "    <tr>\n",
       "      <th>2</th>\n",
       "      <td>999604</td>\n",
       "      <td>Offender Information</td>\n",
       "      <td>Wells, III</td>\n",
       "      <td>Amos</td>\n",
       "      <td>08/20/1990</td>\n",
       "      <td>M</td>\n",
       "      <td>Black</td>\n",
       "      <td>11/22/2016</td>\n",
       "      <td>Tarrant</td>\n",
       "      <td>07/01/2013</td>\n",
       "    </tr>\n",
       "    <tr>\n",
       "      <th>3</th>\n",
       "      <td>999603</td>\n",
       "      <td>Offender Information</td>\n",
       "      <td>Brownlow</td>\n",
       "      <td>Charles</td>\n",
       "      <td>09/16/1977</td>\n",
       "      <td>M</td>\n",
       "      <td>Black</td>\n",
       "      <td>05/23/2016</td>\n",
       "      <td>Kaufman</td>\n",
       "      <td>10/28/2013</td>\n",
       "    </tr>\n",
       "    <tr>\n",
       "      <th>4</th>\n",
       "      <td>999602</td>\n",
       "      <td>Offender Information</td>\n",
       "      <td>Bluntson</td>\n",
       "      <td>Demond</td>\n",
       "      <td>11/25/1975</td>\n",
       "      <td>M</td>\n",
       "      <td>Black</td>\n",
       "      <td>05/10/2016</td>\n",
       "      <td>Webb</td>\n",
       "      <td>06/19/2012</td>\n",
       "    </tr>\n",
       "  </tbody>\n",
       "</table>\n",
       "</div>"
      ],
      "text/plain": [
       "   TDCJ Number                  Link   Last Name First Name Date of Birth  \\\n",
       "0       999606  Offender Information      Colone     Joseph    08/13/1978   \n",
       "1       999605  Offender Information        Falk       John    11/19/1966   \n",
       "2       999604  Offender Information  Wells, III       Amos    08/20/1990   \n",
       "3       999603  Offender Information    Brownlow    Charles    09/16/1977   \n",
       "4       999602  Offender Information    Bluntson     Demond    11/25/1975   \n",
       "\n",
       "  Gender   Race Date Received     County Date of Offense  \n",
       "0      M  Black    05/09/2017  Jefferson      07/31/2010  \n",
       "1      M  White    03/01/2017     Walker      09/24/2007  \n",
       "2      M  Black    11/22/2016    Tarrant      07/01/2013  \n",
       "3      M  Black    05/23/2016    Kaufman      10/28/2013  \n",
       "4      M  Black    05/10/2016       Webb      06/19/2012  "
      ]
     },
     "execution_count": 2,
     "metadata": {},
     "output_type": "execute_result"
    }
   ],
   "source": [
    "# Import Death-Row.csv\n",
    "df = pd.read_csv(Path('./Resources/death-row.csv'))\n",
    "df.head()"
   ]
  },
  {
   "cell_type": "code",
   "execution_count": 4,
   "id": "05565607",
   "metadata": {},
   "outputs": [
    {
     "data": {
      "text/plain": [
       "238"
      ]
     },
     "execution_count": 4,
     "metadata": {},
     "output_type": "execute_result"
    }
   ],
   "source": [
    "# Count the rows in the dataset\n",
    "len(df.index)"
   ]
  },
  {
   "cell_type": "code",
   "execution_count": 7,
   "id": "9ad4737b",
   "metadata": {},
   "outputs": [],
   "source": [
    "# Rename the Last Name, First Name, Date of Birth, Date Received, and Date of Offense columns\n",
    "df.rename(columns = {\"Last Name\":\"Last_Name\",\"First Name\":\"First_Name\", \"Date of Birth\":\"Date_of_Birth\", \"Date Received\":\"Date_Received\", \"Date of Offense\":\"Date_of_Offense\"}, inplace=True)"
   ]
  },
  {
   "cell_type": "code",
   "execution_count": 8,
   "id": "17695383",
   "metadata": {},
   "outputs": [
    {
     "data": {
      "text/plain": [
       "Index(['TDCJ Number', 'Link', 'Last_Name', 'First_Name', 'Date_of_Birth',\n",
       "       'Gender', 'Race', 'Date_Received', 'County', 'Date_of_Offense'],\n",
       "      dtype='object')"
      ]
     },
     "execution_count": 8,
     "metadata": {},
     "output_type": "execute_result"
    }
   ],
   "source": [
    "df.columns"
   ]
  },
  {
   "cell_type": "markdown",
   "id": "ce8f186c",
   "metadata": {},
   "source": [
    "### Looking at the data from this resource in its current form, at this time continuing with linear regression will not answer any of our questions with dataset"
   ]
  },
  {
   "cell_type": "markdown",
   "id": "39cb4256",
   "metadata": {},
   "source": [
    "## Clustering"
   ]
  },
  {
   "cell_type": "code",
   "execution_count": 12,
   "id": "e154f0b8",
   "metadata": {},
   "outputs": [
    {
     "data": {
      "text/plain": [
       "TDCJ Number         int64\n",
       "Link               object\n",
       "Last_Name          object\n",
       "First_Name         object\n",
       "Date_of_Birth      object\n",
       "Gender             object\n",
       "Race               object\n",
       "Date_Received      object\n",
       "County             object\n",
       "Date_of_Offense    object\n",
       "dtype: object"
      ]
     },
     "execution_count": 12,
     "metadata": {},
     "output_type": "execute_result"
    }
   ],
   "source": [
    "# Analyze the data to determine if clustering would be appropriate for this dataset to answer the question: \n",
    "# Is there a particular zodiac sign that is more likely to be a murderer/on Death Row? \n",
    "\n",
    "# Show Data Type for each column\n",
    "df.dtypes\n"
   ]
  },
  {
   "cell_type": "code",
   "execution_count": 13,
   "id": "5acc8a72",
   "metadata": {},
   "outputs": [
    {
     "name": "stdout",
     "output_type": "stream",
     "text": [
      "['08/13/1978' '11/19/1966' '08/20/1990' '09/16/1977' '11/25/1975'\n",
      " '10/23/1969' '12/03/1970' '02/18/1993' '04/07/1967' '09/21/1958'\n",
      " '12/27/1979' '07/05/1991' '05/30/1979' '09/07/1974' '02/07/1976'\n",
      " '07/22/1959' '09/02/1986' '11/11/1987' '11/18/1966' '08/07/1959'\n",
      " '09/17/1975' '01/17/1982' '07/08/1967' '05/03/1979' '07/30/1953'\n",
      " '06/07/1979' '09/26/1970' '03/26/1988' '08/23/1989' '02/18/1987'\n",
      " '11/30/1972' '06/12/1984' '11/30/1966' '01/27/1982' '12/07/1975'\n",
      " '03/05/1970' '12/30/1987' '11/14/1975' '06/25/1972' '01/11/1965'\n",
      " '04/23/1979' '09/20/1986' '12/15/1990' '03/14/1971' '12/11/1969'\n",
      " '09/01/1948' '12/12/1989' '11/18/1983' '08/31/1980' '11/02/1972'\n",
      " '09/22/1975' '03/01/1987' '08/31/1963' '10/30/1988' '11/10/1976'\n",
      " '08/24/1979' '04/04/1987' '06/29/1984' '03/17/1981' '02/13/1974'\n",
      " '11/26/1985' '10/11/1984' '7/18/1968' '11/20/79' '08/03/1959'\n",
      " '03/26/1980' '11/24/1976' '10/01/1980' '06/07/1988' '09/11/1982'\n",
      " '05/22/1984' '02/05/1979' '12/31/1979' '01/26/1963' '06/04/1985'\n",
      " '03/20/1970' '12/07/1979' '01/03/1956' '08/21/1983' '08/17/1971'\n",
      " '11/05/1982' '05/13/1977' '10/26/1979' '09/24/1983' '03/30/1967'\n",
      " '07/25/1972' '07/21/1976' '04/03/1981' '05/14/1979' '01/26/1984'\n",
      " '06/16/1981' '07/24/1974' '09/02/1970' '03/17/1983' '07/03/1979'\n",
      " '03/11/1984' '07/11/1982' '06/25/1962' '01/23/1961' '02/22/1968'\n",
      " '02/07/1979' '11/02/1979' '12/24/1984' '06/15/1963' '07/11/1966'\n",
      " '03/01/1975' '08/10/1977' '11/20/1979' '08/12/1980' '10/03/1961'\n",
      " '11/22/1969' '10/05/1954' '12/21/1973' '08/28/1950' '09/13/1977'\n",
      " '01/23/1973' '07/19/1983' '08/14/1979' '05/02/1973' '11/10/1966'\n",
      " '11/6/1971' '04/21/1977' '04/18/1972' '09/17/1982' '09/22/1980'\n",
      " '06/02/1977' '08/02/1955' '09/18/1979' '06/23/1959' '10/05/1958'\n",
      " '06/29/1978' '06/14/1973' '09/29/1974' '08/11/1981' '03/16/1975'\n",
      " '09/01/1975' '08/05/1972' '10/05/1969' '06/17/1980' '07/21/1959'\n",
      " '02/08/1980' '10/09/1971' '07/15/1979' '09/07/1949' '01/01/1968'\n",
      " '05/21/1953' '08/20/1976' '12/01/1964' '05/21/1971' '08/21/1971'\n",
      " '09/02/1967' '12/06/1974' '03/09/1977' '03/06/1959' '01/22/1979'\n",
      " '01/08/1962' '10/31/1971' '04/17/1979' '01/30/1969' '06/10/1977'\n",
      " '06/13/1970' '02/06/1962' '09/25/1967' '10/31/1969' '11/03/1974'\n",
      " '05/07/1976' '12/02/1969' '03/29/1970' '03/08/1957' '10/25/1978'\n",
      " '04/07/1970' '12/22/1967' '03/06/1971' '10/21/1976' '01/13/1979'\n",
      " '01/01/1973' '08/19/1973' '02/09/1956' '05/10/1954' '07/30/1969'\n",
      " '01/28/1974' '07/29/1971' '04/15/1976' '01/04/1970' '03/29/1974'\n",
      " '12/18/1954' '02/04/1963' '11/05/1974' '10/22/1971' '09/05/1956'\n",
      " '11/16/1975' '02/22/1957' '08/31/1974' '09/01/1973' '02/28/1958'\n",
      " '04/04/1962' '11/25/1974' '08/14/1970' '03/22/1970' '03/04/1964'\n",
      " '03/12/1973' '12/23/1962' '06/19/1973' '05/23/1954' '06/20/1957'\n",
      " '05/10/1964' '08/25/1960' '02/27/1955' '01/03/1954' '08/28/1968'\n",
      " '09/10/1972' '12/20/1965' '11/24/1967' '07/30/1962' '05/26/1970'\n",
      " '03/30/1940' '05/28/1968' '09/09/1948' '12/03/1957' '03/31/1967'\n",
      " '04/05/1962' '06/12/1965' '09/19/1965' '04/18/1958' '02/24/1961'\n",
      " '08/19/1955' '05/31/1965' '01/12/1959' '12/27/1951' '07/02/1946'\n",
      " '10/05/1959' '10/29/1959' '10/18/1956' '05/12/1948' '04/06/1956'\n",
      " '04/07/1958' '06/01/1950']\n"
     ]
    }
   ],
   "source": [
    "# Show all unique values in Description column\n",
    "print(df[\"Date_of_Birth\"].unique())"
   ]
  },
  {
   "cell_type": "code",
   "execution_count": 15,
   "id": "aad3ccd6",
   "metadata": {},
   "outputs": [
    {
     "name": "stdout",
     "output_type": "stream",
     "text": [
      "237\n"
     ]
    }
   ],
   "source": [
    "# Count the unique values in the Description column\n",
    "print(df['Date_of_Birth'].nunique())"
   ]
  },
  {
   "cell_type": "code",
   "execution_count": null,
   "id": "76b1ce8e",
   "metadata": {},
   "outputs": [],
   "source": []
  }
 ],
 "metadata": {
  "kernelspec": {
   "display_name": "mlenv2",
   "language": "python",
   "name": "mlenv2"
  },
  "language_info": {
   "codemirror_mode": {
    "name": "ipython",
    "version": 3
   },
   "file_extension": ".py",
   "mimetype": "text/x-python",
   "name": "python",
   "nbconvert_exporter": "python",
   "pygments_lexer": "ipython3",
   "version": "3.7.13"
  }
 },
 "nbformat": 4,
 "nbformat_minor": 5
}
