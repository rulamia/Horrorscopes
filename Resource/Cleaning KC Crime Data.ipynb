{
 "cells": [
  {
   "cell_type": "code",
   "execution_count": 1,
   "id": "9a94296d",
   "metadata": {
    "scrolled": false
   },
   "outputs": [
    {
     "data": {
      "application/vnd.jupyter.widget-view+json": {
       "model_id": "ddccafa9b13d4bb78a5e5d87829adbb9",
       "version_major": 2,
       "version_minor": 0
      },
      "text/plain": [
       "MitoWidget(analysis_data_json='{\"analysisName\": \"id-qpoxgaawjg\", \"analysisToReplay\": null, \"code\": [], \"stepSu…"
      ]
     },
     "metadata": {},
     "output_type": "display_data"
    }
   ],
   "source": [
    "import mitosheet\n",
    "mitosheet.sheet(analysis_to_replay=\"id-qpoxgaawjg\")"
   ]
  },
  {
   "cell_type": "code",
   "execution_count": null,
   "id": "dc00e1cb",
   "metadata": {},
   "outputs": [],
   "source": [
    "from mitosheet import *; register_analysis(\"id-qpoxgaawjg\");\n",
    "    \n",
    "# Imported KCPD_Crime_Data_2009_Final.csv\n",
    "import pandas as pd\n",
    "KCPD_Crime_Data_2009_Final = pd.read_csv(r'C:\\Users\\laure\\OneDrive\\Desktop\\Class_folder\\Class Project\\Horrorscopes\\KC_crimedata\\KCPD_Crime_Data_2009_Final.csv')\n",
    "\n",
    "# Deleted columns Reported_Date\n",
    "KCPD_Crime_Data_2009_Final.drop(['Reported_Date'], axis=1, inplace=True)\n",
    "\n",
    "# Deleted columns Reported Time\n",
    "KCPD_Crime_Data_2009_Final.drop(['Reported Time'], axis=1, inplace=True)\n",
    "\n",
    "# Deleted columns To_Date\n",
    "KCPD_Crime_Data_2009_Final.drop(['To_Date'], axis=1, inplace=True)\n",
    "\n",
    "# Deleted columns To Time\n",
    "KCPD_Crime_Data_2009_Final.drop(['To Time'], axis=1, inplace=True)\n",
    "\n",
    "# Deleted columns Offense\n",
    "KCPD_Crime_Data_2009_Final.drop(['Offense'], axis=1, inplace=True)\n",
    "\n",
    "# Deleted columns IBRS\n",
    "KCPD_Crime_Data_2009_Final.drop(['IBRS'], axis=1, inplace=True)\n",
    "\n",
    "# Deleted columns Beat\n",
    "KCPD_Crime_Data_2009_Final.drop(['Beat'], axis=1, inplace=True)\n",
    "\n",
    "# Deleted columns Address\n",
    "KCPD_Crime_Data_2009_Final.drop(['Address'], axis=1, inplace=True)\n",
    "\n",
    "# Deleted columns City\n",
    "KCPD_Crime_Data_2009_Final.drop(['City'], axis=1, inplace=True)\n",
    "\n",
    "# Deleted columns Zip Code\n",
    "KCPD_Crime_Data_2009_Final.drop(['Zip Code'], axis=1, inplace=True)\n",
    "\n",
    "# Deleted columns Rep_Dist\n",
    "KCPD_Crime_Data_2009_Final.drop(['Rep_Dist'], axis=1, inplace=True)\n",
    "\n",
    "# Deleted columns Area\n",
    "KCPD_Crime_Data_2009_Final.drop(['Area'], axis=1, inplace=True)\n",
    "\n",
    "# Deleted columns DVFlag\n",
    "KCPD_Crime_Data_2009_Final.drop(['DVFlag'], axis=1, inplace=True)\n",
    "\n",
    "# Deleted columns Invl_No\n",
    "KCPD_Crime_Data_2009_Final.drop(['Invl_No'], axis=1, inplace=True)\n",
    "\n",
    "# Set formula of Involvement\n",
    "KCPD_Crime_Data_2009_Final['Involvement'] = KCPD_Crime_Data_2009_Final['Involvement']\n",
    "\n",
    "# Deleted columns Involvement\n",
    "KCPD_Crime_Data_2009_Final.drop(['Involvement'], axis=1, inplace=True)\n",
    "\n",
    "# Deleted columns Race\n",
    "KCPD_Crime_Data_2009_Final.drop(['Race'], axis=1, inplace=True)\n",
    "\n",
    "# Deleted columns Sex\n",
    "KCPD_Crime_Data_2009_Final.drop(['Sex'], axis=1, inplace=True)\n",
    "\n",
    "# Deleted columns Age\n",
    "KCPD_Crime_Data_2009_Final.drop(['Age'], axis=1, inplace=True)\n",
    "\n",
    "# Deleted columns Location 1\n",
    "KCPD_Crime_Data_2009_Final.drop(['Location 1'], axis=1, inplace=True)\n",
    "\n",
    "# Split From_Date on \" \"\n",
    "KCPD_Crime_Data_2009_Final[['From_Date-split-0-g340', 'From_Date-split-1-g340', 'From_Date-split-2-g340']] = KCPD_Crime_Data_2009_Final['From_Date'].str.split(' ', -1, expand=True)\n",
    "KCPD_Crime_Data_2009_Final = KCPD_Crime_Data_2009_Final[KCPD_Crime_Data_2009_Final.columns[:2].tolist() + ['From_Date-split-0-g340', 'From_Date-split-1-g340', 'From_Date-split-2-g340'] + KCPD_Crime_Data_2009_Final.columns[2:-3].tolist()]\n",
    "\n",
    "# Deleted columns From_Date\n",
    "KCPD_Crime_Data_2009_Final.drop(['From_Date'], axis=1, inplace=True)\n",
    "\n",
    "# Renamed columns From_Date\n",
    "KCPD_Crime_Data_2009_Final.rename(columns={'From_Date-split-0-g340': 'From_Date'}, inplace=True)\n",
    "\n",
    "# Deleted columns From_Date-split-1-g340\n",
    "KCPD_Crime_Data_2009_Final.drop(['From_Date-split-1-g340'], axis=1, inplace=True)\n",
    "\n",
    "# Deleted columns From_Date-split-2-g340\n",
    "KCPD_Crime_Data_2009_Final.drop(['From_Date-split-2-g340'], axis=1, inplace=True)\n",
    "\n",
    "# Filtered Description\n",
    "KCPD_Crime_Data_2009_Final = KCPD_Crime_Data_2009_Final[KCPD_Crime_Data_2009_Final['Description'].apply(lambda val: all(val != s for s in ['2601', '5', 'Alien', 'Animal Bite - Dog', 'Attempt Suicide', 'Attempt Suicide by C', 'Attempt Suicide by G', 'Attempt Suicide by H', 'Attempt Suicide by J', 'Attempt Suicide by O', 'Attempt Suicide by S', 'Attempt Suicide by P', 'Dead Body', 'F', 'Suicide - Domestic V', 'Suicide By Hanging', 'Suicide By Shooting', 'Suicide By Sleeping', 'Suicide by Other Mea', 'c', 'Misc Violation']))]\n",
    "\n",
    "# Filtered From_Date\n",
    "KCPD_Crime_Data_2009_Final = KCPD_Crime_Data_2009_Final[KCPD_Crime_Data_2009_Final['From_Date'].notnull()]\n"
   ]
  },
  {
   "cell_type": "code",
   "execution_count": 2,
   "id": "d21c23f4",
   "metadata": {},
   "outputs": [
    {
     "data": {
      "application/vnd.jupyter.widget-view+json": {
       "model_id": "e7189dc81ec841ee832090a335ce9634",
       "version_major": 2,
       "version_minor": 0
      },
      "text/plain": [
       "MitoWidget(analysis_data_json='{\"analysisName\": \"id-thvglcwtes\", \"analysisToReplay\": null, \"code\": [], \"stepSu…"
      ]
     },
     "metadata": {},
     "output_type": "display_data"
    }
   ],
   "source": [
    "mitosheet.sheet(analysis_to_replay=\"id-thvglcwtes\")"
   ]
  },
  {
   "cell_type": "code",
   "execution_count": null,
   "id": "02820c36",
   "metadata": {},
   "outputs": [],
   "source": [
    "from mitosheet import *; register_analysis(\"id-thvglcwtes\");\n",
    "    \n",
    "# Imported KC_crimedata_cleaned.csv\n",
    "import pandas as pd\n",
    "KC_crimedata_cleaned = pd.read_csv(r'KC_crimedata_cleaned.csv')\n",
    "\n",
    "# Filtered From_Date\n",
    "KC_crimedata_cleaned = KC_crimedata_cleaned[KC_crimedata_cleaned['From_Date'].notnull()]\n",
    "\n",
    "\n"
   ]
  }
 ],
 "metadata": {
  "kernelspec": {
   "display_name": "mlenv",
   "language": "python",
   "name": "mlenv"
  },
  "language_info": {
   "codemirror_mode": {
    "name": "ipython",
    "version": 3
   },
   "file_extension": ".py",
   "mimetype": "text/x-python",
   "name": "python",
   "nbconvert_exporter": "python",
   "pygments_lexer": "ipython3",
   "version": "3.7.13"
  }
 },
 "nbformat": 4,
 "nbformat_minor": 5
}
